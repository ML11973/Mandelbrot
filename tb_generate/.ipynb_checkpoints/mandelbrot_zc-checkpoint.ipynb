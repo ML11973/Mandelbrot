{
 "cells": [
  {
   "cell_type": "code",
   "execution_count": 1,
   "id": "53132d90-3fd3-420e-82eb-ee05d61a0f91",
   "metadata": {},
   "outputs": [],
   "source": [
    "import numpy as np\n",
    "import copy as cp\n",
    "from fixedpoint import FixedPoint as fp"
   ]
  },
  {
   "cell_type": "code",
   "execution_count": 2,
   "id": "1f207577-5810-4ccf-9861-91695b5b5781",
   "metadata": {},
   "outputs": [],
   "source": [
    "rows = 600\n",
    "cols = 800\n",
    "row_center = rows/2\n",
    "col_center = cols/2\n",
    "max_x = 6\n",
    "incr = max_x*1/2/rows\n",
    "\n",
    "r = 2;\n",
    "z0 = 0;"
   ]
  },
  {
   "cell_type": "code",
   "execution_count": 3,
   "id": "604231cf-d1d0-427a-9553-0892af6e7e28",
   "metadata": {},
   "outputs": [],
   "source": [
    "def ZC_add(width, ndec, c_r, c_i, z_r_i, z_i_i, r_sq):\n",
    "    nint = width-ndec\n",
    "    \n",
    "    z_r_fp = (fp(z_r_i, m=nint, n=ndec, signed=True, str_base=2))\n",
    "    z_i_fp = (fp(z_i_i, m=nint, n=ndec, signed=True, str_base=2))\n",
    "    c_r_fp = (fp(c_r,   m=nint, n=ndec, signed=True, str_base=2))\n",
    "    c_i_fp = (fp(c_i,   m=nint, n=ndec, signed=True, str_base=2))\n",
    "    #print('z_r_fp : ' + str(z_r_fp))\n",
    "\n",
    "    z_r_sq = z_r_fp * z_r_fp\n",
    "    z_i_sq = z_i_fp * z_i_fp\n",
    "    z_cros = z_r_fp * z_i_fp * 2\n",
    "    #print('z_r_sq : ' + str(z_r_sq))\n",
    "    \n",
    "    fp.resize(z_cros, nint, ndec, alert='ignore')\n",
    "    fp.resize(z_r_sq, nint, ndec, alert='ignore')\n",
    "    fp.resize(z_i_sq, nint, ndec, alert='ignore')\n",
    "\n",
    "\n",
    "    z_r_o = c_r_fp + z_r_sq - z_i_sq\n",
    "    z_i_o = c_i_fp + z_cros\n",
    "    fp.resize(z_r_o, nint, ndec, alert='ignore')\n",
    "    fp.resize(z_i_o, nint, ndec, alert='ignore')\n",
    "    #print('z_r_o  : ' + str(z_r_o))\n",
    "\n",
    "    # Computing radius\n",
    "    z_r_o_sq = z_r_o * z_r_o\n",
    "    z_i_o_sq = z_i_o * z_i_o\n",
    "    fp.resize(z_r_o_sq, nint, ndec, alert='ignore')\n",
    "    fp.resize(z_i_o_sq, nint, ndec, alert='ignore')\n",
    "    \n",
    "    z_radi = z_r_o_sq + z_i_o_sq\n",
    "    fp.resize(z_radi, nint, ndec, alert='ignore')\n",
    "    z_over_r = z_radi >= r_sq\n",
    "    #print('z_radi : ' + str(z_r_sq))\n",
    "    \n",
    "    #print('z_r_o  : ' + str(z_r_o))\n",
    "    return z_r_o, z_i_o, z_over_r\n",
    "\n",
    "def ZC_add_ref(c_r,c_i,z_r_i,z_i_i,r_sq):\n",
    "    z_r_o = z_r_i**2 - z_i_i**2 + c_r\n",
    "    z_i_o = 2*z_r_i*z_i_i + c_i\n",
    "    z_over_r = (z_r_o**2 + z_i_o**2)>=r_sq\n",
    "    \n",
    "    return z_r_o, z_i_o, z_over_r"
   ]
  },
  {
   "cell_type": "code",
   "execution_count": 4,
   "id": "6fc5329a-77a4-41fa-ba87-fa1cd047bfaf",
   "metadata": {},
   "outputs": [],
   "source": [
    "# test single stage\n",
    "z_r = 1\n",
    "z_i = 0.5\n",
    "c_r = -1\n",
    "c_i = -0.5\n",
    "\n",
    "m = 8  # avant\n",
    "n = 10 # après virgule\n",
    "size = m+n\n",
    "ndec = n\n",
    "\n",
    "nint = size-n"
   ]
  },
  {
   "cell_type": "code",
   "execution_count": 5,
   "id": "3acbcff4-13e5-4414-b317-82adb8c14fef",
   "metadata": {},
   "outputs": [
    {
     "name": "stdout",
     "output_type": "stream",
     "text": [
      "z_r_fp : 000000010000000000\n",
      "z_i_fp : 000000001000000000\n",
      "c_r_fp : 111111110000000000\n",
      "c_i_fp : 111111111000000000\n",
      "z_r_sq : 000000010000000000\n",
      "z_i_sq : 000000000100000000\n",
      "z_cros : 000000010000000000\n",
      "z_radi : 000000010100000000\n",
      "z_r_o  : 00000000000100000000\n",
      "z_r_o  : 000000000100000000\n"
     ]
    }
   ],
   "source": [
    "z_r_fp = fp(z_r, m=nint, n=n, signed=True, str_base=2)\n",
    "z_i_fp = fp(z_i, m=nint, n=n, signed=True, str_base=2)\n",
    "c_r_fp = fp(c_r, m=nint, n=n, signed=True, str_base=2)\n",
    "c_i_fp = fp(c_i, m=nint, n=n, signed=True, str_base=2)\n",
    "print('z_r_fp : ' + str(z_r_fp))\n",
    "print('z_i_fp : ' + str(z_i_fp))\n",
    "print('c_r_fp : ' + str(c_r_fp))\n",
    "print('c_i_fp : ' + str(c_i_fp))\n",
    "\n",
    "z_r_sq = z_r_fp * z_r_fp\n",
    "z_i_sq = z_i_fp * z_i_fp\n",
    "z_cros = 2*(z_r_fp * z_i_fp)\n",
    "fp.resize(z_cros, nint, ndec)\n",
    "fp.resize(z_r_sq, nint, ndec)\n",
    "fp.resize(z_i_sq, nint, ndec)\n",
    "print('z_r_sq : ' + str(z_r_sq))\n",
    "print('z_i_sq : ' + str(z_i_sq))\n",
    "print('z_cros : ' + str(z_cros))\n",
    "\n",
    "z_radi = z_r_sq + z_i_sq\n",
    "fp.resize(z_radi, nint, ndec)\n",
    "print('z_radi : ' + str(z_radi))\n",
    "\n",
    "z_r_o = c_r_fp  + z_r_sq + z_i_sq\n",
    "z_i_o = c_i_fp + z_cros\n",
    "print('z_r_o  : ' + str(z_r_o))\n",
    "fp.resize(z_i_o, nint, ndec)\n",
    "fp.resize(z_r_o, nint, ndec)\n",
    "print('z_r_o  : ' + str(z_r_o))\n",
    "\n",
    "\n",
    "#z_r_o,z_i_o = ZC_add(size, n, c_r, c_i, z_r, z_i)\n",
    "#print(str(z_r_o)+' '+str(z_i_o))"
   ]
  },
  {
   "cell_type": "code",
   "execution_count": 6,
   "id": "faf7afce-b265-43f8-85c8-b49da32101b5",
   "metadata": {},
   "outputs": [],
   "source": [
    "c_r = [-1, -1,  -1, -1,  -1, -0.5, -0.5, -0.5, -0.5, 0,  0,  0,   0, 0.5, 0.5, 0.5, 0.5, 1, 1,   1]\n",
    "c_i = [-1, -0.5, 0,  0.5, 1, -1,   -0.5,  0,    0.5, 1, -1, -0.5, 0, 0.5, 1,  -1,  -0.5, 0, 0.5, 1]\n",
    "z_i = [0,0,0,0,0,0,0,0,0,0,0,0,0,0,0,0,0,0,0,0]\n",
    "z_r = [0,0,0,0,0,0,0,0,0,0,0,0,0,0,0,0,0,0,0,0]\n",
    "\n"
   ]
  },
  {
   "cell_type": "code",
   "execution_count": 7,
   "id": "21844762-f4ce-4999-b9e9-e7ec190fc9cb",
   "metadata": {},
   "outputs": [
    {
     "name": "stdout",
     "output_type": "stream",
     "text": [
      "var ref  fp\n"
     ]
    }
   ],
   "source": [
    "z1_r_o = [0,0,0,0,0,0,0,0,0,0,0,0,0,0,0,0,0,0,0,0]\n",
    "z1_i_o = [0,0,0,0,0,0,0,0,0,0,0,0,0,0,0,0,0,0,0,0]\n",
    "z2_r_o = [0,0,0,0,0,0,0,0,0,0,0,0,0,0,0,0,0,0,0,0]\n",
    "z2_i_o = [0,0,0,0,0,0,0,0,0,0,0,0,0,0,0,0,0,0,0,0]\n",
    "z3_r_o = [0,0,0,0,0,0,0,0,0,0,0,0,0,0,0,0,0,0,0,0]\n",
    "z3_i_o = [0,0,0,0,0,0,0,0,0,0,0,0,0,0,0,0,0,0,0,0]\n",
    "z1overr = [0,0,0,0,0,0,0,0,0,0,0,0,0,0,0,0,0,0,0,0]\n",
    "z2overr = [0,0,0,0,0,0,0,0,0,0,0,0,0,0,0,0,0,0,0,0]\n",
    "z3overr = [0,0,0,0,0,0,0,0,0,0,0,0,0,0,0,0,0,0,0,0]\n",
    "r_sq = r**2\n",
    "\n",
    "print('var ref  fp')\n",
    "for i in range(0,len(c_r)):\n",
    "    z1_r_o[i],z1_i_o[i],z1overr[i] = ZC_add(size, n, c_r[i], c_i[i], z_r[i], z_i[i], r_sq)\n",
    "    z1_r_ref,z1_i_ref,z1overr_ref  = ZC_add_ref(c_r[i], c_i[i], z_r[i], z_i[i], r_sq)\n",
    "    #print('z1r', z1_r_ref, ' ', float(z1_r_o[i]))\n",
    "    #print('z1i', z1_i_ref, ' ', float(z1_i_o[i]))\n",
    "    z2_r_o[i],z2_i_o[i],z2overr[i] = ZC_add(size, n, c_r[i], c_i[i], z1_r_o[i], z1_i_o[i], r_sq)\n",
    "    z2_r_ref,z2_i_ref,z2overr_ref  = ZC_add_ref(c_r[i], c_i[i], z1_r_ref, z1_i_ref, r_sq)\n",
    "    \n",
    "    z3_r_o[i],z3_i_o[i],z3overr[i] = ZC_add(size, n, c_r[i], c_i[i], z2_r_o[i], z2_i_o[i], r_sq)\n",
    "    z3_r_ref,z3_i_ref,z3overr_ref  = ZC_add_ref(c_r[i], c_i[i], z2_r_ref, z2_i_ref, r_sq)\n",
    "    #print('z3r', z3_r_ref, ' ', float(z3_r_o[i]))\n",
    "    #print('z3i', z3_i_ref, ' ', float(z3_i_o[i]))"
   ]
  },
  {
   "cell_type": "code",
   "execution_count": 8,
   "id": "9e784920-0a34-4060-83a7-6b092bb12909",
   "metadata": {},
   "outputs": [],
   "source": [
    "for i in range(0,len(c_r)):\n",
    "    c_r[i] = fp(c_r[i], m=nint, n=n, signed=True, str_base=2)\n",
    "    c_i[i] = fp(c_i[i], m=nint, n=n, signed=True, str_base=2)\n",
    "\n",
    "zerofp = fp(0, m=nint, n=n, signed=True, str_base=2)\n",
    "out=open('../sim_zc/ref.txt','w')\n",
    "sti=open('../sim_zc/sti.txt','w')\n",
    "\n",
    "for i in range(0,len(c_r)):\n",
    "    # Stage 3 test\n",
    "    out.write(str(z3_r_o[i]) + ' ' + str(z3_i_o[i]) + ' ' + str(int(z3overr[i]))+'\\n')\n",
    "    sti.write(str(c_r[i]) + ' ' + str(c_i[i]) + ' ' + str(z2_r_o[i]) + ' ' + str(z2_i_o[i]) + '\\n')\n",
    "    \n",
    "    # test with single stage\n",
    "    #out.write(str(z1_r_o[i]) + ' ' + str(z1_i_o[i]) + ' ' + str(int(z1overr[i]))+'\\n')\n",
    "    #sti.write(str(c_r[i]) + ' ' + str(c_i[i]) + ' ' + str(zerofp) + ' ' + str(zerofp) + '\\n')\n",
    "\n",
    "    \n",
    "out.close()\n",
    "sti.close()"
   ]
  },
  {
   "cell_type": "code",
   "execution_count": null,
   "id": "85b4d716-e21b-4eb6-9d77-589629940b98",
   "metadata": {},
   "outputs": [],
   "source": []
  }
 ],
 "metadata": {
  "kernelspec": {
   "display_name": "Python 3 (ipykernel)",
   "language": "python",
   "name": "python3"
  },
  "language_info": {
   "codemirror_mode": {
    "name": "ipython",
    "version": 3
   },
   "file_extension": ".py",
   "mimetype": "text/x-python",
   "name": "python",
   "nbconvert_exporter": "python",
   "pygments_lexer": "ipython3",
   "version": "3.10.4"
  }
 },
 "nbformat": 4,
 "nbformat_minor": 5
}
