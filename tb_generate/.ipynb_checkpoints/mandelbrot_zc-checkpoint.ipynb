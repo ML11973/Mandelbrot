{
 "cells": [
  {
   "cell_type": "code",
   "execution_count": 1,
   "id": "53132d90-3fd3-420e-82eb-ee05d61a0f91",
   "metadata": {},
   "outputs": [],
   "source": [
    "import numpy as np\n",
    "from fixedpoint import FixedPoint as fp"
   ]
  },
  {
   "cell_type": "code",
   "execution_count": 2,
   "id": "1f207577-5810-4ccf-9861-91695b5b5781",
   "metadata": {},
   "outputs": [],
   "source": [
    "rows = 600\n",
    "cols = 800\n",
    "row_center = rows/2\n",
    "col_center = cols/2\n",
    "max_x = 6\n",
    "incr = max_x*1/2/rows\n",
    "\n",
    "r = 2;\n",
    "z0 = 0;"
   ]
  },
  {
   "cell_type": "code",
   "execution_count": 3,
   "id": "604231cf-d1d0-427a-9553-0892af6e7e28",
   "metadata": {},
   "outputs": [],
   "source": [
    "def ZC_add(width, ndec, c_r, c_i, z_r_i, z_i_i, r_sq):\n",
    "    nint = width-ndec\n",
    "    \n",
    "    z_r_fp = fp(z_r_i, m=nint, n=ndec, signed=True, str_base=2)\n",
    "    z_i_fp = fp(z_i_i, m=nint, n=ndec, signed=True, str_base=2)\n",
    "    c_r_fp = fp(c_r,   m=nint, n=ndec, signed=True, str_base=2)\n",
    "    c_i_fp = fp(c_i,   m=nint, n=ndec, signed=True, str_base=2)\n",
    "    #print('z_r_fp : ' + str(z_r_fp))\n",
    "\n",
    "    z_r_sq = z_r_fp * z_r_fp\n",
    "    z_i_sq = z_i_fp * z_i_fp\n",
    "    z_cros = z_r_fp * z_i_fp * 2\n",
    "    #print('z_r_sq : ' + str(z_r_sq))\n",
    "\n",
    "    z_radi = z_r_sq + z_i_sq\n",
    "    z_over_r = z_radi > r_sq\n",
    "    #print('z_radi : ' + str(z_r_sq))\n",
    "\n",
    "    z_r_o = c_r_fp  + z_r_sq - z_i_sq\n",
    "    z_i_o = c_i_fp + z_cros\n",
    "    #print('z_r_o  : ' + str(z_r_o))\n",
    "\n",
    "    fp.resize(z_r_o, nint, ndec)\n",
    "    fp.resize(z_i_o, nint, ndec)\n",
    "    #print('z_r_o  : ' + str(z_r_o))\n",
    "    return z_r_o, z_i_o;"
   ]
  },
  {
   "cell_type": "code",
   "execution_count": 4,
   "id": "6fc5329a-77a4-41fa-ba87-fa1cd047bfaf",
   "metadata": {},
   "outputs": [],
   "source": [
    "# test single stage\n",
    "z_r = 1\n",
    "z_i = 1\n",
    "c_r = 1\n",
    "c_i = 1\n",
    "\n",
    "m = 4  # avant\n",
    "n = 14 # après virgule\n",
    "size = m+n\n",
    "\n",
    "nint = size-n"
   ]
  },
  {
   "cell_type": "code",
   "execution_count": 5,
   "id": "3acbcff4-13e5-4414-b317-82adb8c14fef",
   "metadata": {},
   "outputs": [
    {
     "name": "stdout",
     "output_type": "stream",
     "text": [
      "z_r_fp : 000100000000000000\n",
      "z_r_sq : 000000010000000000000000000000000000\n",
      "z_radi : 000000010000000000000000000000000000\n",
      "z_r_o  : 00000000110000000000000000000000000000\n",
      "z_r_o  : 00000000110000000000000000000000000000\n"
     ]
    }
   ],
   "source": [
    "z_r_fp = fp(z_r, m=nint, n=n, signed=True, str_base=2)\n",
    "z_i_fp = fp(z_i, m=nint, n=n, signed=True, str_base=2)\n",
    "c_r_fp = fp(c_r, m=nint, n=n, signed=True, str_base=2)\n",
    "c_i_fp = fp(c_i, m=nint, n=n, signed=True, str_base=2)\n",
    "print('z_r_fp : ' + str(z_r_fp))\n",
    "\n",
    "z_r_sq = z_r_fp * z_r_fp\n",
    "z_i_sq = z_i_fp * z_i_fp\n",
    "z_cros = z_r_fp * z_i_fp * 2\n",
    "print('z_r_sq : ' + str(z_r_sq))\n",
    "\n",
    "z_radi = z_r_sq + z_i_sq\n",
    "print('z_radi : ' + str(z_r_sq))\n",
    "\n",
    "z_r_o = c_r_fp  + z_r_sq + z_i_sq\n",
    "z_i_o = c_i_fp + z_cros\n",
    "print('z_r_o  : ' + str(z_r_o))\n",
    "\n",
    "#z_r_o = resize(z_r_o, m, n)\n",
    "#z_r_i = resize(z_i_o, m, n)\n",
    "print('z_r_o  : ' + str(z_r_o))\n",
    "\n",
    "\n",
    "#z_r_o,z_i_o = ZC_add(size, n, c_r, c_i, z_r, z_i)\n",
    "#print(str(z_r_o)+' '+str(z_i_o))"
   ]
  },
  {
   "cell_type": "code",
   "execution_count": 6,
   "id": "b6a93a10-afdc-4888-b76f-874caace8c2d",
   "metadata": {},
   "outputs": [
    {
     "ename": "TypeError",
     "evalue": "'int' object is not subscriptable",
     "output_type": "error",
     "traceback": [
      "\u001b[0;31m---------------------------------------------------------------------------\u001b[0m",
      "\u001b[0;31mTypeError\u001b[0m                                 Traceback (most recent call last)",
      "Input \u001b[0;32mIn [6]\u001b[0m, in \u001b[0;36m<module>\u001b[0;34m\u001b[0m\n\u001b[1;32m     13\u001b[0m r_sq \u001b[38;5;241m=\u001b[39m r\u001b[38;5;241m*\u001b[39m\u001b[38;5;241m*\u001b[39m\u001b[38;5;241m2\u001b[39m\n\u001b[1;32m     14\u001b[0m \u001b[38;5;28;01mfor\u001b[39;00m i \u001b[38;5;129;01min\u001b[39;00m \u001b[38;5;28mrange\u001b[39m(\u001b[38;5;241m0\u001b[39m,\u001b[38;5;28mlen\u001b[39m(c_r)):\n\u001b[0;32m---> 15\u001b[0m     z1_r_o[i],z1_i_o[i],z1overr[i] \u001b[38;5;241m=\u001b[39m ZC_add(size, n, c_r[i], c_i[i], \u001b[43mz_r\u001b[49m\u001b[43m[\u001b[49m\u001b[43mi\u001b[49m\u001b[43m]\u001b[49m, z_i[i], r_sq)\n\u001b[1;32m     16\u001b[0m     z2_r_o[i],z2_i_o[i],z2overr[i] \u001b[38;5;241m=\u001b[39m ZC_add(size, n, c_r[i], c_i[i], z1_r_o[i], z1_i_o[i], r_sq)\n\u001b[1;32m     17\u001b[0m     z3_r_o[i],z3_i_o[i],z3overr[i] \u001b[38;5;241m=\u001b[39m ZC_add(size, n, c_r[i], c_i[i], z2_r_o[i], z2_i_o[i], r_sq)\n",
      "\u001b[0;31mTypeError\u001b[0m: 'int' object is not subscriptable"
     ]
    }
   ],
   "source": [
    "c_r = [-1, -1,  -1, -1,  -1, -0.5, -0.5, -0.5, -0.5, 0,  0,  0,   0, 0.5, 0.5, 0.5, 0.5, 1, 1,   1]\n",
    "c_i = [-1, -0.5, 0,  0.5, 1, -1,   -0.5,  0,    0.5, 1, -1, -0.5, 0, 0.5, 1,  -1,  -0.5, 0, 0.5, 1]\n",
    "z_i = [0,0,0,0,0,0,0,0,0,0,0,0,0,0,0,0,0,0,0,0]\n",
    "z_r = [0,0,0,0,0,0,0,0,0,0,0,0,0,0,0,0,0,0,0,0]\n",
    "\n",
    "z1_r_o = [0,0,0,0,0,0,0,0,0,0,0,0,0,0,0,0,0,0,0,0]\n",
    "z1_i_o = [0,0,0,0,0,0,0,0,0,0,0,0,0,0,0,0,0,0,0,0]\n",
    "z2_r_o = [0,0,0,0,0,0,0,0,0,0,0,0,0,0,0,0,0,0,0,0]\n",
    "z2_i_o = [0,0,0,0,0,0,0,0,0,0,0,0,0,0,0,0,0,0,0,0]\n",
    "z3_r_o = [0,0,0,0,0,0,0,0,0,0,0,0,0,0,0,0,0,0,0,0]\n",
    "z3_i_o = [0,0,0,0,0,0,0,0,0,0,0,0,0,0,0,0,0,0,0,0]\n",
    "z1overr = [0,0,0,0,0,0,0,0,0,0,0,0,0,0,0,0,0,0,0,0]\n",
    "z2overr = [0,0,0,0,0,0,0,0,0,0,0,0,0,0,0,0,0,0,0,0]\n",
    "z3overr = [0,0,0,0,0,0,0,0,0,0,0,0,0,0,0,0,0,0,0,0]\n",
    "r_sq = r**2\n",
    "for i in range(0,len(c_r)):\n",
    "    z1_r_o[i],z1_i_o[i],z1overr[i] = ZC_add(size, n, c_r[i], c_i[i], z_r[i], z_i[i], r_sq)\n",
    "    z2_r_o[i],z2_i_o[i],z2overr[i] = ZC_add(size, n, c_r[i], c_i[i], z1_r_o[i], z1_i_o[i], r_sq)\n",
    "    z3_r_o[i],z3_i_o[i],z3overr[i] = ZC_add(size, n, c_r[i], c_i[i], z2_r_o[i], z2_i_o[i], r_sq)"
   ]
  },
  {
   "cell_type": "code",
   "execution_count": null,
   "id": "9e784920-0a34-4060-83a7-6b092bb12909",
   "metadata": {},
   "outputs": [],
   "source": [
    "out=open('../sim_zc/ref.txt','w')\n",
    "sti=open('../sim_zc/sti.txt','w')\n",
    "#out.write('zo_r zo_c zoverr\\n')\n",
    "#sti.write('c_r c_i zi_r zi_c\\n')\n",
    "for i in range(0,len(c_r_fix)):\n",
    "    #out.write('\"'+str(z3_r_o[i])+'\"' + ' ' + '\"'+str(z3_i_o[i])+'\"' + \"'\"+str(int(z3overr[i]))+\"'\"+'\\n')\n",
    "    #sti.write('\"'+str(z2_r_o[i])+'\"' + ' ' + '\"'+str(z2_i_o[i])+'\"' + ' ' + '\"'+str(c_r[i])+'\"' + ' ' + '\"'+str(c_i[i])+'\"' + '\\n')\n",
    "    \n",
    "    out.write(str(z3_r_o[i]) + ' ' + str(z3_i_o[i]) + ' ' + str(int(z3overr[i]))+'\\n')\n",
    "    sti.write(str(z2_r_o[i]) + ' ' + str(z2_i_o[i]) + ' ' + str(c_r[i]) + ' ' + str(c_i[i]) + '\\n')\n",
    "\n",
    "    \n",
    "out.close()\n",
    "sti.close()"
   ]
  },
  {
   "cell_type": "code",
   "execution_count": null,
   "id": "218898ce-d95c-4fb9-851b-abeb700b4e7e",
   "metadata": {},
   "outputs": [],
   "source": []
  },
  {
   "cell_type": "code",
   "execution_count": null,
   "id": "8c70b671-3d69-43f9-907a-075ce839e812",
   "metadata": {},
   "outputs": [],
   "source": []
  }
 ],
 "metadata": {
  "kernelspec": {
   "display_name": "Python 3 (ipykernel)",
   "language": "python",
   "name": "python3"
  },
  "language_info": {
   "codemirror_mode": {
    "name": "ipython",
    "version": 3
   },
   "file_extension": ".py",
   "mimetype": "text/x-python",
   "name": "python",
   "nbconvert_exporter": "python",
   "pygments_lexer": "ipython3",
   "version": "3.10.4"
  }
 },
 "nbformat": 4,
 "nbformat_minor": 5
}
