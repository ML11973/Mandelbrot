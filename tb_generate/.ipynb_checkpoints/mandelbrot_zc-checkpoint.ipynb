{
 "cells": [
  {
   "cell_type": "code",
   "execution_count": 1,
   "id": "53132d90-3fd3-420e-82eb-ee05d61a0f91",
   "metadata": {},
   "outputs": [],
   "source": [
    "import numpy as np\n",
    "from fixedpoint import FixedPoint as fp"
   ]
  },
  {
   "cell_type": "code",
   "execution_count": 2,
   "id": "1f207577-5810-4ccf-9861-91695b5b5781",
   "metadata": {},
   "outputs": [],
   "source": [
    "rows = 600\n",
    "cols = 800\n",
    "row_center = rows/2\n",
    "col_center = cols/2\n",
    "max_x = 6\n",
    "incr = max_x*1/2/rows\n",
    "\n",
    "r = 2;\n",
    "z0 = 0;"
   ]
  },
  {
   "cell_type": "code",
   "execution_count": 3,
   "id": "604231cf-d1d0-427a-9553-0892af6e7e28",
   "metadata": {},
   "outputs": [],
   "source": [
    "def resize(x,m,n):\n",
    "    #x_str = str(x)\n",
    "    x_str = f\"{x.bits:0{x.m+x.n}b}\"\n",
    "    new = f\"0b{x_str[x.m-m:x.m+n]}\"\n",
    "    #print(f\"[{start}:{end}] -> {new}\")\n",
    "    return fp(new, m=m, n=n, signed=True, str_base=2)\n",
    "\n",
    "def single_stage_mandelbrot(comma, size, c_real, c_imaginary, z_real_in, z_imaginary_in, sti_file=None, ref_file=None, write=False):\n",
    "    #fixed point parameters\n",
    "    intBits = size - comma\n",
    "    decBits = comma\n",
    "\n",
    "    z_real_in = fp(z_real_in, m=intBits, n=decBits, signed=1, str_base=2, overflow='wrap')\n",
    "    z_imaginary_in = fp(z_imaginary_in, m=intBits, n=decBits, signed=1, str_base=2, overflow='wrap')\n",
    "\n",
    "    #convert inputs to right size\n",
    "    c_real = fp(c_real, m=intBits, n=decBits, signed=1, str_base=2, overflow='wrap')\n",
    "    c_imaginary = fp(c_imaginary, m=intBits, n=decBits, signed=1, str_base=2, overflow='wrap')\n",
    "\n",
    "    z_real_out = z_real_in**2 - z_imaginary_in**2 + c_real\n",
    "    z_imaginary_out = 2*z_real_in*z_imaginary_in + c_imaginary\n",
    "\n",
    "    #truncate result\n",
    "    fp.resize(z_real_out, intBits, decBits, alert='ignore')\n",
    "    fp.resize(z_imaginary_out, intBits, decBits, alert='ignore')\n",
    "\n",
    "    if write :\n",
    "        sti_file.write(f'{str(c_real)} {str(c_imaginary)} {str(z_real_in)} {str(z_imaginary_in)}\\n')\n",
    "        ref_file.write(f'{str(z_real_out)} {str(z_imaginary_out)}\\n')\n",
    "\n",
    "    return z_real_out, z_imaginary_out\n"
   ]
  },
  {
   "cell_type": "code",
   "execution_count": 4,
   "id": "a080bcb9-c866-4e18-848f-03db5d177323",
   "metadata": {},
   "outputs": [],
   "source": [
    "c_r = [-1, -1,  -1, -1,  -1, -0.5, -0.5, -0.5, -0.5, 0,  0,  0,   0, 0.5, 0.5, 0.5, 0.5, 1, 1,   1]\n",
    "c_i = [-1, -0.5, 0,  0.5, 1, -1,   -0.5,  0,    0.5, 1, -1, -0.5, 0, 0.5, 1,  -1,  -0.5, 0, 0.5, 1]\n",
    "z_i = [0,0,0,0,0,0,0,0,0,0,0,0,0,0,0,0,0,0,0,0]\n",
    "z_r = [0,0,0,0,0,0,0,0,0,0,0,0,0,0,0,0,0,0,0,0]\n",
    "\n",
    "m = 4 # avant\n",
    "n = 14 # après virgule\n",
    "size = m+n\n",
    "\n",
    "c_r_fix = c_r\n",
    "c_i_fix = c_i\n",
    "z1_r = z_r\n",
    "z1_i = z_i\n",
    "\n",
    "for i in range(0,len(c_r_fix)):\n",
    "    c_r_fix[i] = fp(c_r[i], m=m, n=n, signed=True, str_base=2)\n",
    "    c_i_fix[i] = fp(c_i[i], m=m, n=n, signed=True, str_base=2)\n",
    "    \n",
    "    z1_r[i] = fp(0, m=m, n=n, signed=True, str_base=2)\n",
    "    z1_i[i] = fp(0, m=m, n=n, signed=True, str_base=2)\n",
    "    #print(c_r_fix[i])\n",
    "    #print(c_i_fix[i])\n",
    "    #print(z_r_fix[i])\n",
    "    #print(z_i_fix[i])\n",
    "               "
   ]
  },
  {
   "cell_type": "code",
   "execution_count": 5,
   "id": "d62a670e-ec6c-4d05-83a2-404a7c2ead84",
   "metadata": {},
   "outputs": [],
   "source": [
    "# z1\n",
    "z1_r_sq = [0,0,0,0,0,0,0,0,0,0,0,0,0,0,0,0,0,0,0,0]\n",
    "z1_i_sq = [0,0,0,0,0,0,0,0,0,0,0,0,0,0,0,0,0,0,0,0]\n",
    "z1_cross_sq = [0,0,0,0,0,0,0,0,0,0,0,0,0,0,0,0,0,0,0,0]\n",
    "z1_mult  = [0,0,0,0,0,0,0,0,0,0,0,0,0,0,0,0,0,0,0,0]\n",
    "\n",
    "# z2\n",
    "z2_i = [0,0,0,0,0,0,0,0,0,0,0,0,0,0,0,0,0,0,0,0]\n",
    "z2_r = [0,0,0,0,0,0,0,0,0,0,0,0,0,0,0,0,0,0,0,0]\n",
    "z2_r_sq = [0,0,0,0,0,0,0,0,0,0,0,0,0,0,0,0,0,0,0,0]\n",
    "z2_i_sq = [0,0,0,0,0,0,0,0,0,0,0,0,0,0,0,0,0,0,0,0]\n",
    "z2_cross_sq = [0,0,0,0,0,0,0,0,0,0,0,0,0,0,0,0,0,0,0,0]\n",
    "z2_mult  = [0,0,0,0,0,0,0,0,0,0,0,0,0,0,0,0,0,0,0,0]\n",
    "\n",
    "# z3\n",
    "z3_i = [0,0,0,0,0,0,0,0,0,0,0,0,0,0,0,0,0,0,0,0]\n",
    "z3_r = [0,0,0,0,0,0,0,0,0,0,0,0,0,0,0,0,0,0,0,0]\n",
    "z3_r_sq = [0,0,0,0,0,0,0,0,0,0,0,0,0,0,0,0,0,0,0,0]\n",
    "z3_i_sq = [0,0,0,0,0,0,0,0,0,0,0,0,0,0,0,0,0,0,0,0]\n",
    "z3_cross_sq = [0,0,0,0,0,0,0,0,0,0,0,0,0,0,0,0,0,0,0,0]\n",
    "\n",
    "z3overr = [0,0,0,0,0,0,0,0,0,0,0,0,0,0,0,0,0,0,0,0]"
   ]
  },
  {
   "cell_type": "code",
   "execution_count": 6,
   "id": "f49347f7-aca9-40eb-9bb4-e69065df1845",
   "metadata": {},
   "outputs": [],
   "source": [
    "for i in range(0,len(c_r_fix)):\n",
    "    # Computing z1 squared\n",
    "    z1_r_sq[i] = c_r_fix[i]\n",
    "    z1_i_sq[i] = c_i_fix[i]\n",
    "    z1_cross_sq[i] = resize(z1_r[i] * z1_i[i], m,n)\n",
    "    \n",
    "    # Computing z2\n",
    "    z1_mult[i] = resize(2*z1_r[i]*z1_i[i],m,n)\n",
    "    z2_r[i] = resize(c_r[i] + z1_r_sq[i] - z1_i_sq[i], m,n)\n",
    "    z2_i[i] = resize(c_i[i] + z1_mult[i], m,n)\n",
    "    \n",
    "    z2_r_sq[i] = resize(z2_r[i] * z2_r[i], m,n)\n",
    "    z2_i_sq[i] = resize(z2_i[i] * z2_i[i], m,n)\n",
    "    \n",
    "    # Computing z2\n",
    "    z2_mult[i] = resize(2*z2_r[i]*z2_i[i],m,n)\n",
    "    z3_r[i] = resize(c_r[i] + z2_r_sq[i] - z2_i_sq[i], m,n)\n",
    "    z3_i[i] = resize(c_i[i] + z2_mult[i], m,n)\n",
    "    \n",
    "    z3_r_sq[i] = resize(z3_r[i] * z3_r[i], m,n)\n",
    "    z3_i_sq[i] = resize(z3_i[i] * z3_i[i], m,n)\n",
    "    \n",
    "    z3overr[i] = (z3_r_sq[i] + z3_i_sq[i]) > 4"
   ]
  },
  {
   "cell_type": "code",
   "execution_count": 7,
   "id": "b6a93a10-afdc-4888-b76f-874caace8c2d",
   "metadata": {},
   "outputs": [],
   "source": [
    "z1_r_o = [0,0,0,0,0,0,0,0,0,0,0,0,0,0,0,0,0,0,0,0]\n",
    "z1_i_o = [0,0,0,0,0,0,0,0,0,0,0,0,0,0,0,0,0,0,0,0]\n",
    "z2_r_o = [0,0,0,0,0,0,0,0,0,0,0,0,0,0,0,0,0,0,0,0]\n",
    "z2_i_o = [0,0,0,0,0,0,0,0,0,0,0,0,0,0,0,0,0,0,0,0]\n",
    "z3_r_o = [0,0,0,0,0,0,0,0,0,0,0,0,0,0,0,0,0,0,0,0]\n",
    "z3_i_o = [0,0,0,0,0,0,0,0,0,0,0,0,0,0,0,0,0,0,0,0]\n",
    "\n",
    "for i in range(0,len(c_r_fix)):\n",
    "    z1_r_o[i],z1_i_o[i] = single_stage_mandelbrot(n, size, c_r[i], c_i[i], z_r[i], z_i[i], sti_file=None, ref_file=None, write=False)\n",
    "    z2_r_o[i],z2_i_o[i] = single_stage_mandelbrot(n, size, c_r[i], c_i[i], z1_r_o[i], z1_i_o[i], sti_file=None, ref_file=None, write=False)\n",
    "    z3_r_o[i],z3_i_o[i] = single_stage_mandelbrot(n, size, c_r[i], c_i[i], z2_r_o[i], z2_i_o[i], sti_file=None, ref_file=None, write=False)"
   ]
  },
  {
   "cell_type": "code",
   "execution_count": 8,
   "id": "89016577-70ed-4718-82c2-24a6e56a2357",
   "metadata": {},
   "outputs": [],
   "source": [
    "#print(z3_r_o)\n",
    "#print(z3_r)"
   ]
  },
  {
   "cell_type": "code",
   "execution_count": 10,
   "id": "9e784920-0a34-4060-83a7-6b092bb12909",
   "metadata": {},
   "outputs": [],
   "source": [
    "out=open('../sim_zc/ref.txt','w')\n",
    "sti=open('../sim_zc/sti.txt','w')\n",
    "#out.write('zo_r zo_c zoverr\\n')\n",
    "#sti.write('c_r c_i zi_r zi_c\\n')\n",
    "for i in range(0,len(c_r_fix)):\n",
    "    #out.write('\"'+str(z3_r_o[i])+'\"' + ' ' + '\"'+str(z3_i_o[i])+'\"' + \"'\"+str(int(z3overr[i]))+\"'\"+'\\n')\n",
    "    #sti.write('\"'+str(z2_r_o[i])+'\"' + ' ' + '\"'+str(z2_i_o[i])+'\"' + ' ' + '\"'+str(c_r[i])+'\"' + ' ' + '\"'+str(c_i[i])+'\"' + '\\n')\n",
    "    \n",
    "    out.write(str(z3_r_o[i]) + ' ' + str(z3_i_o[i]) + ' ' + str(int(z3overr[i]))+'\\n')\n",
    "    sti.write(str(z2_r_o[i]) + ' ' + str(z2_i_o[i]) + ' ' + str(c_r[i]) + ' ' + str(c_i[i]) + '\\n')\n",
    "out.close()\n",
    "sti.close()"
   ]
  },
  {
   "cell_type": "code",
   "execution_count": null,
   "id": "218898ce-d95c-4fb9-851b-abeb700b4e7e",
   "metadata": {},
   "outputs": [],
   "source": []
  },
  {
   "cell_type": "code",
   "execution_count": null,
   "id": "8c70b671-3d69-43f9-907a-075ce839e812",
   "metadata": {},
   "outputs": [],
   "source": []
  }
 ],
 "metadata": {
  "kernelspec": {
   "display_name": "Python 3 (ipykernel)",
   "language": "python",
   "name": "python3"
  },
  "language_info": {
   "codemirror_mode": {
    "name": "ipython",
    "version": 3
   },
   "file_extension": ".py",
   "mimetype": "text/x-python",
   "name": "python",
   "nbconvert_exporter": "python",
   "pygments_lexer": "ipython3",
   "version": "3.10.4"
  }
 },
 "nbformat": 4,
 "nbformat_minor": 5
}
